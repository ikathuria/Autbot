{
 "cells": [
  {
   "cell_type": "code",
   "execution_count": 1,
   "metadata": {},
   "outputs": [],
   "source": [
    "import gc\n",
    "import pandas as pd\n",
    "import numpy as np\n",
    "\n",
    "from speech_emotion.datasets import *\n",
    "from speech_emotion.plots import *\n",
    "from speech_emotion.features import *\n",
    "from speech_emotion.modeling import *\n",
    "from speech_emotion.evaluation import *\n",
    "\n",
    "from keras.callbacks import EarlyStopping\n",
    "\n",
    "from keras.utils import plot_model\n",
    "import seaborn as sns\n",
    "import matplotlib.pyplot as plt\n",
    "sns.set()\n",
    "\n",
    "from IPython.display import clear_output as jupyter_clear_output"
   ]
  },
  {
   "attachments": {},
   "cell_type": "markdown",
   "metadata": {},
   "source": [
    "## EDA"
   ]
  },
  {
   "cell_type": "code",
   "execution_count": 2,
   "metadata": {},
   "outputs": [],
   "source": [
    "def eda(data_df):\n",
    "    plt.title('Count of Emotions', size=16)\n",
    "    sns.countplot(x=data_df.Emotions)\n",
    "    plt.ylabel('Count', size=12)\n",
    "    plt.xlabel('Emotions', size=12)\n",
    "    sns.despine(top=True, right=True, left=False, bottom=False)\n",
    "    plt.show()"
   ]
  },
  {
   "cell_type": "code",
   "execution_count": 3,
   "metadata": {},
   "outputs": [],
   "source": [
    "def plots(data_df):\n",
    "    emotion = 'happy'\n",
    "    path = np.array(data_df.Path[data_df.Emotions == emotion])[0]\n",
    "    display_waveplot(path, emotion)\n",
    "    display_spectrogram(path, emotion)\n",
    "    display_melspectrogram(path, emotion)"
   ]
  },
  {
   "attachments": {},
   "cell_type": "markdown",
   "metadata": {},
   "source": [
    "## Train Model"
   ]
  },
  {
   "cell_type": "code",
   "execution_count": 4,
   "metadata": {},
   "outputs": [],
   "source": [
    "def modeling(x_train, y_train, dataset, v=False):\n",
    "    model = create_model(x_train[0].shape, y_train.shape[1], v)\n",
    "    plot_model(\n",
    "        model,\n",
    "        to_file='./data/plots/speech_emotion_model_4.png',\n",
    "        show_shapes=True,\n",
    "        dpi=300,\n",
    "    )\n",
    "\n",
    "    es = EarlyStopping(\n",
    "        monitor='loss', patience=2\n",
    "    )\n",
    "\n",
    "    history = model.fit(\n",
    "        x_train, y_train,\n",
    "        batch_size=16,\n",
    "        epochs=10,\n",
    "        verbose=1,\n",
    "        callbacks=[es],\n",
    "    )\n",
    "    \n",
    "    del x_train, y_train\n",
    "    gc.collect()\n",
    "\n",
    "    model.save(f'{dataset}_model_4.h5')\n",
    "\n",
    "    return model, history"
   ]
  },
  {
   "attachments": {},
   "cell_type": "markdown",
   "metadata": {},
   "source": [
    "## Main"
   ]
  },
  {
   "cell_type": "code",
   "execution_count": 5,
   "metadata": {},
   "outputs": [
    {
     "name": "stdout",
     "output_type": "stream",
     "text": [
      "Epoch 1/10\n",
      "240/240 [==============================] - 43s 161ms/step - loss: 0.5052 - accuracy: 0.8122\n",
      "Epoch 2/10\n",
      "240/240 [==============================] - 39s 161ms/step - loss: 0.0367 - accuracy: 0.9888\n",
      "Epoch 3/10\n",
      "240/240 [==============================] - 39s 161ms/step - loss: 0.0269 - accuracy: 0.9914\n",
      "Epoch 4/10\n",
      "240/240 [==============================] - 39s 161ms/step - loss: 0.0277 - accuracy: 0.9922\n",
      "Epoch 5/10\n",
      "240/240 [==============================] - 39s 161ms/step - loss: 0.0058 - accuracy: 0.9982\n",
      "Epoch 6/10\n",
      "240/240 [==============================] - 39s 162ms/step - loss: 0.0013 - accuracy: 1.0000\n",
      "Epoch 7/10\n",
      "240/240 [==============================] - 39s 162ms/step - loss: 3.5437e-04 - accuracy: 1.0000\n",
      "Epoch 8/10\n",
      "240/240 [==============================] - 39s 162ms/step - loss: 2.3590e-04 - accuracy: 1.0000\n",
      "Epoch 9/10\n",
      "240/240 [==============================] - 39s 162ms/step - loss: 1.7329e-04 - accuracy: 1.0000\n",
      "Epoch 10/10\n",
      "240/240 [==============================] - 39s 162ms/step - loss: 1.3562e-04 - accuracy: 1.0000\n"
     ]
    },
    {
     "data": {
      "image/png": "[encoded data removed]",
      "text/plain": [
       "<Figure size 1080x360 with 2 Axes>"
      ]
     },
     "metadata": {
      "needs_background": "light"
     },
     "output_type": "display_data"
    },
    {
     "name": "stdout",
     "output_type": "stream",
     "text": [
      "Train X shape: (3840, 128, 300, 1)\n",
      "Test X shape: (960, 128, 300, 1)\n",
      "Train Y shape: (3840, 4)\n",
      "Test Y shape: (960, 4)\n",
      "Test Accuracy: 0.9979166388511658 \n",
      "Test Loss: 0.003095821011811495 \n",
      "Train Accuracy: 1.0 \n",
      "Train Loss: 0.00011351938883308321 \n",
      "Full Dataset Accuracy: 0.9995833039283752 \n",
      "Full Dataset Loss: 0.0007099797367118299\n",
      "0.9979166388511658 0.003095821011811495 1.0 0.00011351938883308321 0.9995833039283752 0.0007099797367118299\n"
     ]
    }
   ],
   "source": [
    "if __name__ == \"__main__\":\n",
    "    global DATASET, CLASSES, RESET\n",
    "\n",
    "    RESET = False\n",
    "    CLASSES = [\"happy\", \"sad\", \"angry\", \"neutral\"]\n",
    "\n",
    "    for i in [\"TESS\"]:\n",
    "        DATASET = i\n",
    "        print(f\"DATASET: {DATASET}\\n\")\n",
    "\n",
    "        # Loading data\n",
    "        data_df, x, y = load_x_y(RESET, CLASSES, DATASET)\n",
    "        print(data_df.head())\n",
    "        print(\"---------------------\\n\\n\")\n",
    "\n",
    "        print(\"Features:\", x.shape)\n",
    "        print(\"Labels:\", y.shape)\n",
    "        print(\"---------------------\\n\\n\")\n",
    "\n",
    "        # EDA\n",
    "        eda(data_df)\n",
    "        plots(data_df)\n",
    "\n",
    "        del data_df\n",
    "        gc.collect()\n",
    "\n",
    "        jupyter_clear_output(wait=True)\n",
    "\n",
    "        # Splitting data\n",
    "        x_train, x_test, y_train, y_test = split(x, y)\n",
    "\n",
    "        # del x, y, x_test, y_test\n",
    "        del x_test, y_test\n",
    "        gc.collect()\n",
    "\n",
    "        jupyter_clear_output(wait=True)\n",
    "\n",
    "        # Modeling\n",
    "        model, history = modeling(x_train, y_train, DATASET)\n",
    "\n",
    "        display_model_history(history.history, val=False)\n",
    "\n",
    "        a1, l1, a2, l2, a3, l3 = evaluate_dataset(model, x, y)\n",
    "        print(\n",
    "            'Test Accuracy:           ', a1,\n",
    "            '\\nTest Loss:             ', l1,\n",
    "            '\\nTrain Accuracy:        ', a2,\n",
    "            '\\nTrain Loss:            ', l2,\n",
    "            '\\nFull Dataset Accuracy: ', a3,\n",
    "            '\\nFull Dataset Loss:     ', l3\n",
    "        )\n",
    "\n",
    "        # jupyter_clear_output(wait=True)"
   ]
  },
  {
   "cell_type": "code",
   "execution_count": null,
   "metadata": {},
   "outputs": [],
   "source": []
  }
 ],
 "metadata": {
  "kernelspec": {
   "display_name": "Python 3",
   "language": "python",
   "name": "python3"
  },
  "language_info": {
   "codemirror_mode": {
    "name": "ipython",
    "version": 3
   },
   "file_extension": ".py",
   "mimetype": "text/x-python",
   "name": "python",
   "nbconvert_exporter": "python",
   "pygments_lexer": "ipython3",
   "version": "3.10.8"
  },
  "orig_nbformat": 4,
  "vscode": {
   "interpreter": {
    "hash": "26de051ba29f2982a8de78e945f0abaf191376122a1563185a90213a26c5da77"
   }
  }
 },
 "nbformat": 4,
 "nbformat_minor": 2
}
