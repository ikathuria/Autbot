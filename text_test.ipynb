{
 "cells": [
  {
   "cell_type": "code",
   "execution_count": 1,
   "metadata": {},
   "outputs": [],
   "source": [
    "import warnings\n",
    "warnings.filterwarnings(\"ignore\")\n",
    "\n",
    "import gc\n",
    "import numpy as np\n",
    "import pandas as pd\n",
    "from tqdm import tqdm\n",
    "\n",
    "from text_emotion.datasets import load_dataset\n",
    "from text_emotion.evaluation import *\n",
    "from transformers import pipeline\n",
    "\n",
    "from IPython.display import clear_output as jupyter_clear_output"
   ]
  },
  {
   "attachments": {},
   "cell_type": "markdown",
   "metadata": {},
   "source": [
    "## Evaluating Text Emotion Recognition"
   ]
  },
  {
   "cell_type": "code",
   "execution_count": 2,
   "metadata": {},
   "outputs": [],
   "source": [
    "def load_model_data(model, dataset):\n",
    "    global RESULT\n",
    "\n",
    "    df = load_dataset(dataset)\n",
    "    x = df[\"Text\"].tolist()\n",
    "    y = df[\"Emotion\"].tolist()\n",
    "\n",
    "    acc, f1, preds, y = evaluate_dataset(model, x, y)\n",
    "    print(acc, f1)\n",
    "\n",
    "    RESULT[dataset] = [acc, f1, preds, y]"
   ]
  },
  {
   "cell_type": "code",
   "execution_count": 3,
   "metadata": {},
   "outputs": [
    {
     "data": {
      "application/vnd.jupyter.widget-view+json": {
       "model_id": "72982994e9384646a99fa98abcfbca1c",
       "version_major": 2,
       "version_minor": 0
      },
      "text/plain": [
       "Downloading:   0%|          | 0.00/329M [00:00<?, ?B/s]"
      ]
     },
     "metadata": {},
     "output_type": "display_data"
    },
    {
     "data": {
      "application/vnd.jupyter.widget-view+json": {
       "model_id": "895c7987d2b846c8aff681714da5e225",
       "version_major": 2,
       "version_minor": 0
      },
      "text/plain": [
       "Downloading:   0%|          | 0.00/294 [00:00<?, ?B/s]"
      ]
     },
     "metadata": {},
     "output_type": "display_data"
    },
    {
     "data": {
      "application/vnd.jupyter.widget-view+json": {
       "model_id": "9c56f05dfd00401fbbae874be7b9c55e",
       "version_major": 2,
       "version_minor": 0
      },
      "text/plain": [
       "Downloading:   0%|          | 0.00/798k [00:00<?, ?B/s]"
      ]
     },
     "metadata": {},
     "output_type": "display_data"
    },
    {
     "data": {
      "application/vnd.jupyter.widget-view+json": {
       "model_id": "a386021a38464290b1fc788d44d62630",
       "version_major": 2,
       "version_minor": 0
      },
      "text/plain": [
       "Downloading:   0%|          | 0.00/456k [00:00<?, ?B/s]"
      ]
     },
     "metadata": {},
     "output_type": "display_data"
    },
    {
     "data": {
      "application/vnd.jupyter.widget-view+json": {
       "model_id": "aa9061e394f2436cb9f05ae7eaf90c5c",
       "version_major": 2,
       "version_minor": 0
      },
      "text/plain": [
       "Downloading:   0%|          | 0.00/1.36M [00:00<?, ?B/s]"
      ]
     },
     "metadata": {},
     "output_type": "display_data"
    },
    {
     "data": {
      "application/vnd.jupyter.widget-view+json": {
       "model_id": "9330af1c1bf642fa8de3a9ee0b856b57",
       "version_major": 2,
       "version_minor": 0
      },
      "text/plain": [
       "Downloading:   0%|          | 0.00/239 [00:00<?, ?B/s]"
      ]
     },
     "metadata": {},
     "output_type": "display_data"
    },
    {
     "name": "stderr",
     "output_type": "stream",
     "text": [
      "Evaluating full dataset: 100%|██████████| 7102/7102 [00:59<00:00, 120.22it/s]\n"
     ]
    },
    {
     "name": "stdout",
     "output_type": "stream",
     "text": [
      "0.8459588848211771 0.633907721227257\n"
     ]
    },
    {
     "name": "stderr",
     "output_type": "stream",
     "text": [
      "Evaluating full dataset: 100%|██████████| 12606/12606 [01:25<00:00, 147.72it/s]\n"
     ]
    },
    {
     "name": "stdout",
     "output_type": "stream",
     "text": [
      "0.43558622877994607 0.38163544728920784\n"
     ]
    },
    {
     "name": "stderr",
     "output_type": "stream",
     "text": [
      "Evaluating full dataset: 100%|██████████| 13708/13708 [01:46<00:00, 128.12it/s]\n"
     ]
    },
    {
     "name": "stdout",
     "output_type": "stream",
     "text": [
      "0.5723665013131018 0.5164992956036019\n"
     ]
    }
   ],
   "source": [
    "RESULT = {}\n",
    "\n",
    "MODEL = pipeline(\n",
    "    'text-classification',\n",
    "    model='j-hartmann/emotion-english-distilroberta-base',\n",
    "    device=0\n",
    ")\n",
    "\n",
    "DATASETS = [\"ISEAR\", \"EMORY\", \"MELD\"]\n",
    "\n",
    "for i in DATASETS:\n",
    "    load_model_data(MODEL, i)\n",
    "\n",
    "    gc.collect()\n",
    "\n",
    "    # jupyter_clear_output(wait=True)\n",
    "    pd.DataFrame.from_dict(\n",
    "        RESULT, orient='index',\n",
    "        columns=['Full Dataset Accuracy', 'F1 score', 'Predictions', 'True']\n",
    "    ).to_csv(\"text_result2.csv\")"
   ]
  },
  {
   "cell_type": "code",
   "execution_count": null,
   "metadata": {},
   "outputs": [],
   "source": []
  }
 ],
 "metadata": {
  "kernelspec": {
   "display_name": "Python 3",
   "language": "python",
   "name": "python3"
  },
  "language_info": {
   "codemirror_mode": {
    "name": "ipython",
    "version": 3
   },
   "file_extension": ".py",
   "mimetype": "text/x-python",
   "name": "python",
   "nbconvert_exporter": "python",
   "pygments_lexer": "ipython3",
   "version": "3.10.8"
  },
  "orig_nbformat": 4,
  "vscode": {
   "interpreter": {
    "hash": "26de051ba29f2982a8de78e945f0abaf191376122a1563185a90213a26c5da77"
   }
  }
 },
 "nbformat": 4,
 "nbformat_minor": 2
}
