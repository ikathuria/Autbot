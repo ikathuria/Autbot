{
 "cells": [
  {
   "cell_type": "code",
   "execution_count": 1,
   "metadata": {},
   "outputs": [],
   "source": [
    "import gc\n",
    "import pandas as pd\n",
    "import numpy as np\n",
    "from speech_emotion.evaluation import *\n",
    "from speech_emotion.features import *\n",
    "from keras.models import load_model\n",
    "\n",
    "from IPython.display import clear_output as jupyter_clear_output"
   ]
  },
  {
   "attachments": {},
   "cell_type": "markdown",
   "metadata": {},
   "source": [
    "## Evaluating Speech Emotion Recognition"
   ]
  },
  {
   "cell_type": "code",
   "execution_count": 2,
   "metadata": {},
   "outputs": [],
   "source": [
    "def load_model_data(dataset):\n",
    "    global RESULT\n",
    "\n",
    "    model = load_model(f\"model/{dataset}_model_4.h5\")\n",
    "\n",
    "    x = np.load(f'data/npy/{dataset}_features.npy')\n",
    "    y = np.load(f'data/npy/{dataset}_labels.npy')\n",
    "\n",
    "    a1, l1, a2, l2, a3, l3 = evaluate_dataset(model, x, y)\n",
    "\n",
    "    cus_pred, cus_true = evaluate_custom(model)\n",
    "\n",
    "    RESULT[dataset] = [\n",
    "        a1, l1, a2, l2, a3, l3, cus_pred, cus_true\n",
    "    ]\n",
    "\n",
    "    del model, a1, l1, a2, l2, a3, l3, cus_pred, cus_true"
   ]
  },
  {
   "cell_type": "code",
   "execution_count": 3,
   "metadata": {},
   "outputs": [
    {
     "name": "stderr",
     "output_type": "stream",
     "text": [
      "Processing IEMOCAP: 100%|██████████| 6/6 [02:02<00:00, 20.47s/it]\n"
     ]
    }
   ],
   "source": [
    "RESULT = {}\n",
    "\n",
    "DATASETS = [\"RAVDESS\", \"CREMA\", \"TESS\", \"SAVEE\", \"EMODB\", \"IEMOCAP\"]\n",
    "pbar = tqdm(DATASETS)\n",
    "\n",
    "for i in pbar:\n",
    "    pbar.set_description(\"Processing %s\" % i)\n",
    "    load_model_data(i)\n",
    "\n",
    "    gc.collect()\n",
    "\n",
    "    jupyter_clear_output(wait=True)\n",
    "    pd.DataFrame.from_dict(\n",
    "        RESULT, orient='index',\n",
    "        columns=[\n",
    "            'Test Accuracy', 'Test Loss', 'Train Accuracy', 'Train Loss',\n",
    "            'Full Dataset Accuracy', 'Full Dataset Loss',\n",
    "            'Custom Predictions', 'Custom True Labels'\n",
    "        ]\n",
    "    ).to_csv(\"result.csv\")"
   ]
  },
  {
   "cell_type": "code",
   "execution_count": null,
   "metadata": {},
   "outputs": [],
   "source": []
  }
 ],
 "metadata": {
  "kernelspec": {
   "display_name": "Python 3",
   "language": "python",
   "name": "python3"
  },
  "language_info": {
   "codemirror_mode": {
    "name": "ipython",
    "version": 3
   },
   "file_extension": ".py",
   "mimetype": "text/x-python",
   "name": "python",
   "nbconvert_exporter": "python",
   "pygments_lexer": "ipython3",
   "version": "3.10.8"
  },
  "orig_nbformat": 4,
  "vscode": {
   "interpreter": {
    "hash": "26de051ba29f2982a8de78e945f0abaf191376122a1563185a90213a26c5da77"
   }
  }
 },
 "nbformat": 4,
 "nbformat_minor": 2
}
